{
 "cells": [
  {
   "cell_type": "code",
   "execution_count": 1,
   "id": "c9d5c46d-2336-4888-ad8f-826c655ceaa8",
   "metadata": {},
   "outputs": [],
   "source": [
    "import pandas as pd\n"
   ]
  },
  {
   "cell_type": "code",
   "execution_count": null,
   "id": "45aadb9c-6382-4ddb-bb1c-211ac674941f",
   "metadata": {},
   "outputs": [],
   "source": []
  },
  {
   "cell_type": "code",
   "execution_count": 2,
   "id": "d313d44b-5db9-4f93-bbf4-dd6bd9dde23c",
   "metadata": {},
   "outputs": [],
   "source": [
    "state_abv = {\n",
    "    '2': 'AK',\n",
    "    '1': 'AL',\n",
    "    '5': 'AR',\n",
    "    '4': 'AZ',\n",
    "    '6': 'CA',\n",
    "    '8': 'CO',\n",
    "    '9': 'CT',\n",
    "    '11': 'DC',\n",
    "    '10': 'DE',\n",
    "    '12': 'FL',\n",
    "    '13': 'GA',\n",
    "    '15': 'HI',\n",
    "    '19': 'IA',\n",
    "    '16': 'ID',\n",
    "    '17': 'IL',\n",
    "    '18': 'IN',\n",
    "    '20': 'KS',\n",
    "    '21': 'KY',\n",
    "    '22': 'LA',\n",
    "    '25': 'MA',\n",
    "    '24': 'MD',\n",
    "    '23': 'ME',\n",
    "    '26': 'MI',\n",
    "    '27': 'MN',\n",
    "    '29': 'MO',\n",
    "    '28': 'MS',\n",
    "    '30': 'MT',\n",
    "    '37': 'NC',\n",
    "    '38': 'ND',\n",
    "    '31': 'NE',\n",
    "    '33': 'NH',\n",
    "    '34': 'NJ',\n",
    "    '35': 'NM',\n",
    "    '32': 'NV',\n",
    "    '36': 'NY',\n",
    "    '39': 'OH',\n",
    "    '40': 'OK',\n",
    "    '41': 'OR',\n",
    "    '42': 'PA',\n",
    "    '44': 'RI',\n",
    "    '45': 'SC',\n",
    "    '46': 'SD',\n",
    "    '47': 'TN',\n",
    "    '48': 'TX',\n",
    "    '49': 'UT',\n",
    "    '51': 'VA',\n",
    "    '50': 'VT',\n",
    "    '53': 'WA',\n",
    "    '55': 'WI',\n",
    "    '54': 'WV',\n",
    "    '56': 'WY'}"
   ]
  },
  {
   "cell_type": "code",
   "execution_count": 3,
   "id": "261101fb-6958-4f6f-b1f1-39659190173e",
   "metadata": {},
   "outputs": [],
   "source": [
    "test_state_abv = {\n",
    "    '2': 'AK',\n",
    "    '1': 'AL',\n",
    "    '5': 'AR',\n",
    "    '4': 'AZ'}"
   ]
  },
  {
   "cell_type": "code",
   "execution_count": 4,
   "id": "d457ccde-0249-4db9-8016-4ea38093ca57",
   "metadata": {},
   "outputs": [],
   "source": [
    "comstock_buildings = ['quickservicerestaurant',\n",
    "                      'fullservicerestaurant',\n",
    "                      'smalloffice',\n",
    "                      'mediumoffice',\n",
    "                      'largeoffice',\n",
    "                      'warehouse',\n",
    "                      'smallhotel',\n",
    "                      'largehotel',\n",
    "                      'outpatient',\n",
    "                      'hospital',\n",
    "                      'secondaryschool',\n",
    "                      'primaryschool',\n",
    "                      'retailstandalone',\n",
    "                      'retailstripmall']"
   ]
  },
  {
   "cell_type": "code",
   "execution_count": 5,
   "id": "b635fb74-8c87-4d24-9cfe-381630af1ce7",
   "metadata": {},
   "outputs": [],
   "source": [
    "test_comstock_buildings = ['smalloffice']"
   ]
  },
  {
   "cell_type": "code",
   "execution_count": 6,
   "id": "535131ba-55ea-4566-8faf-290f3319ab5f",
   "metadata": {},
   "outputs": [],
   "source": [
    "upgrades = ['17','18']\n",
    "test_upgrades = ['17']"
   ]
  },
  {
   "cell_type": "code",
   "execution_count": 7,
   "id": "5b9e581f-9428-4eac-b6f2-3a094853312b",
   "metadata": {},
   "outputs": [],
   "source": [
    "data_df = pd.read_csv('data.csv')"
   ]
  },
  {
   "cell_type": "code",
   "execution_count": null,
   "id": "d3528418-948c-42a6-870b-a2e5fbfd11e1",
   "metadata": {},
   "outputs": [],
   "source": []
  },
  {
   "cell_type": "code",
   "execution_count": 8,
   "id": "d4ad829d-29c0-485f-a0b9-bf5a70ce7dd7",
   "metadata": {},
   "outputs": [],
   "source": [
    "# Compute % savings\n",
    "data_df['perc_elec_savings'] = 100 * data_df['sum.electricity.total.energy_consumption.kwh.savings'] / (\n",
    "    data_df['sum.electricity.total.energy_consumption.kwh.savings'] + data_df['sum.electricity.total.energy_consumption.kwh'])\n",
    "\n",
    "data_df['perc_gas_savings'] = 100 * data_df['sum.natural_gas.total.energy_consumption.kwh.savings'] / (\n",
    "    data_df['sum.natural_gas.total.energy_consumption.kwh.savings'] + data_df['sum.natural_gas.total.energy_consumption.kwh'])\n",
    "\n",
    "data_df['perc_total_savings'] = 100 * (data_df['sum.natural_gas.total.energy_consumption.kwh.savings'] + data_df['sum.electricity.total.energy_consumption.kwh.savings']) / (\n",
    "    data_df['sum.natural_gas.total.energy_consumption.kwh.savings'] + data_df['sum.natural_gas.total.energy_consumption.kwh'] \n",
    "    + data_df['sum.electricity.total.energy_consumption.kwh.savings'] + data_df['sum.electricity.total.energy_consumption.kwh'] )\n"
   ]
  },
  {
   "cell_type": "code",
   "execution_count": null,
   "id": "09c36fd0-b42d-4a42-b491-0335b3f5f127",
   "metadata": {},
   "outputs": [],
   "source": []
  },
  {
   "cell_type": "code",
   "execution_count": 9,
   "id": "1dab4a71-b606-4e9a-8625-ef91a7400f91",
   "metadata": {},
   "outputs": [
    {
     "name": "stdout",
     "output_type": "stream",
     "text": [
      "Saved file: 17_SmallOffice_savings.csv\n"
     ]
    }
   ],
   "source": [
    "savings_df_template = pd.DataFrame(columns=['state', 'perc_elec_savings', 'perc_gas_savings', 'perc_total_savings'])\n",
    "\n",
    "# Group by 'upgrade' and then by 'comstock_building_type'\n",
    "for (upgrade, building_type), group in data_df.groupby(['upgrade', 'comstock_building_type']):\n",
    "    # Create a temporary DataFrame for this specific group\n",
    "    temp_savings_df = savings_df_template.copy()\n",
    "    \n",
    "    # Now, iterate over all rows in this subgroup to process states\n",
    "    for _, row in group.iterrows():\n",
    "        state = row['state']\n",
    "        perc_elec_savings = row['perc_elec_savings']\n",
    "        perc_gas_savings = row['perc_gas_savings']\n",
    "        perc_total_savings = row['perc_total_savings']\n",
    "        \n",
    "        new_data = {\n",
    "                    'state': [state.upper()],\n",
    "                    'perc_elec_savings': [perc_elec_savings],\n",
    "                    'perc_gas_savings': [perc_gas_savings],\n",
    "                    'perc_total_savings': [perc_total_savings]\n",
    "                    }\n",
    "\n",
    "        # add new entry to DF\n",
    "        new_row_df = pd.DataFrame(new_data)\n",
    "        temp_savings_df = pd.concat([temp_savings_df, new_row_df], ignore_index=True)\n",
    "    \n",
    "    # After processing all states for this upgrade and building type, save to a CSV file\n",
    "    # Ensure 'upgrade' and 'building_type' are formatted as strings for filename\n",
    "    filename = f\"{str(upgrade)}_{building_type}_savings.csv\"\n",
    "    temp_savings_df.to_csv(filename, index=False)\n",
    "    print(f\"Saved file: {filename}\")\n"
   ]
  },
  {
   "cell_type": "code",
   "execution_count": null,
   "id": "b8df3c10-6af2-4eb0-96fd-aa050f94357d",
   "metadata": {},
   "outputs": [],
   "source": []
  },
  {
   "cell_type": "code",
   "execution_count": null,
   "id": "61e57fbc-bfb8-453f-9e67-35bef9ac196e",
   "metadata": {},
   "outputs": [],
   "source": []
  },
  {
   "cell_type": "code",
   "execution_count": null,
   "id": "5a452f28-bbdc-4009-bfd1-ceb23954778a",
   "metadata": {},
   "outputs": [],
   "source": []
  },
  {
   "cell_type": "code",
   "execution_count": null,
   "id": "b731ab5c-a344-4359-9112-ee42dc8a241c",
   "metadata": {},
   "outputs": [],
   "source": []
  },
  {
   "cell_type": "code",
   "execution_count": null,
   "id": "78ec69f8-d3db-4835-9a8c-3ce1c6e59cf4",
   "metadata": {},
   "outputs": [],
   "source": []
  }
 ],
 "metadata": {
  "kernelspec": {
   "display_name": "Python 3 (ipykernel)",
   "language": "python",
   "name": "python3"
  },
  "language_info": {
   "codemirror_mode": {
    "name": "ipython",
    "version": 3
   },
   "file_extension": ".py",
   "mimetype": "text/x-python",
   "name": "python",
   "nbconvert_exporter": "python",
   "pygments_lexer": "ipython3",
   "version": "3.10.10"
  }
 },
 "nbformat": 4,
 "nbformat_minor": 5
}
