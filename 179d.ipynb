{
 "cells": [
  {
   "cell_type": "code",
   "execution_count": 1,
   "id": "c9d5c46d-2336-4888-ad8f-826c655ceaa8",
   "metadata": {},
   "outputs": [],
   "source": [
    "import pandas as pd\n",
    "\n",
    "def aggregate_monthly_data(spreadsheet_name):\n",
    "    # Load the CSV file\n",
    "    file_path = f'{spreadsheet_name}'\n",
    "    data = pd.read_csv(file_path)\n",
    "\n",
    "    # Convert the 'timestamp' column to datetime\n",
    "    data['timestamp'] = pd.to_datetime(data['timestamp'])\n",
    "\n",
    "    # Set the timestamp as the index\n",
    "    data.set_index('timestamp', inplace=True)\n",
    "\n",
    "    # Aggregate the energy consumption data monthly\n",
    "    monthly_energy_aggregates = data.filter(like='out.').resample('M').sum()\n",
    "\n",
    "    # Aggregate non-changing columns by taking the first available value for each month\n",
    "    non_changing_columns = data[['upgrade', 'in.ashrae_iecc_climate_zone_2004', 'in.comstock_building_type', 'models_used', 'floor_area_represented']].resample('M').first()\n",
    "\n",
    "    # Combine the aggregated data\n",
    "    monthly_aggregated_data = pd.concat([non_changing_columns, monthly_energy_aggregates], axis=1)\n",
    "\n",
    "    # Reset index to make the timestamp a column again\n",
    "    monthly_aggregated_data.reset_index(inplace=True)\n",
    "\n",
    "    return monthly_aggregated_data\n",
    "\n"
   ]
  },
  {
   "cell_type": "code",
   "execution_count": 2,
   "id": "4a7677e9-5b44-4d6a-91ac-d1e33f06773f",
   "metadata": {},
   "outputs": [],
   "source": [
    "# Example usage\n",
    "baseline_data = 'up00-1a-smalloffice.csv'\n",
    "baseline_monthly_df = aggregate_monthly_data(baseline_data)\n",
    "\n",
    "LED_data = 'up05-1a-smalloffice.csv'\n",
    "LED_monthly_df = aggregate_monthly_data(LED_data)\n",
    "\n"
   ]
  },
  {
   "cell_type": "code",
   "execution_count": 5,
   "id": "9fd85c79-a1d0-4161-a598-fef2b6d7dda2",
   "metadata": {},
   "outputs": [
    {
     "data": {
      "text/plain": [
       "0     7.227191e+07\n",
       "1     7.818826e+07\n",
       "2     7.880258e+07\n",
       "3     8.732114e+07\n",
       "4     9.296077e+07\n",
       "5     9.963560e+07\n",
       "6     1.081672e+08\n",
       "7     1.121194e+08\n",
       "8     1.045128e+08\n",
       "9     1.060286e+08\n",
       "10    8.894233e+07\n",
       "11    7.779602e+07\n",
       "12    2.294802e+04\n",
       "Name: out.electricity.total.energy_consumption.kwh, dtype: float64"
      ]
     },
     "execution_count": 5,
     "metadata": {},
     "output_type": "execute_result"
    }
   ],
   "source": [
    "#baseline_monthly_df['out.electricity.total.energy_consumption.kwh']\n",
    "#LED_monthly_df['out.electricity.total.energy_consumption.kwh']"
   ]
  },
  {
   "cell_type": "code",
   "execution_count": 9,
   "id": "7419f54b-b2e9-455e-b47f-6758202a6c9f",
   "metadata": {},
   "outputs": [
    {
     "data": {
      "text/plain": [
       "0     5.335784e+06\n",
       "1     4.807729e+06\n",
       "2     5.186511e+06\n",
       "3     5.061891e+06\n",
       "4     5.594590e+06\n",
       "5     5.210383e+06\n",
       "6     5.458849e+06\n",
       "7     5.694990e+06\n",
       "8     5.041298e+06\n",
       "9     5.633974e+06\n",
       "10    5.298605e+06\n",
       "11    5.034486e+06\n",
       "12    1.199397e+03\n",
       "Name: out.electricity.total.energy_consumption.kwh, dtype: float64"
      ]
     },
     "execution_count": 9,
     "metadata": {},
     "output_type": "execute_result"
    }
   ],
   "source": [
    "baseline_monthly_df['out.electricity.total.energy_consumption.kwh'] - LED_monthly_df['out.electricity.total.energy_consumption.kwh']"
   ]
  },
  {
   "cell_type": "code",
   "execution_count": 8,
   "id": "45aadb9c-6382-4ddb-bb1c-211ac674941f",
   "metadata": {},
   "outputs": [
    {
     "data": {
      "text/plain": [
       "0     5.335784e+06\n",
       "1     4.807729e+06\n",
       "2     5.186511e+06\n",
       "3     5.061891e+06\n",
       "4     5.594590e+06\n",
       "5     5.210383e+06\n",
       "6     5.458849e+06\n",
       "7     5.694990e+06\n",
       "8     5.041298e+06\n",
       "9     5.633974e+06\n",
       "10    5.298605e+06\n",
       "11    5.034486e+06\n",
       "12    1.199397e+03\n",
       "Name: out.electricity.total.energy_consumption.kwh.savings, dtype: float64"
      ]
     },
     "execution_count": 8,
     "metadata": {},
     "output_type": "execute_result"
    }
   ],
   "source": [
    "LED_monthly_df['out.electricity.total.energy_consumption.kwh.savings']"
   ]
  },
  {
   "cell_type": "code",
   "execution_count": null,
   "id": "d5075d76-fc49-4948-955c-d0233b81c7f1",
   "metadata": {},
   "outputs": [],
   "source": []
  }
 ],
 "metadata": {
  "kernelspec": {
   "display_name": "Python 3 (ipykernel)",
   "language": "python",
   "name": "python3"
  },
  "language_info": {
   "codemirror_mode": {
    "name": "ipython",
    "version": 3
   },
   "file_extension": ".py",
   "mimetype": "text/x-python",
   "name": "python",
   "nbconvert_exporter": "python",
   "pygments_lexer": "ipython3",
   "version": "3.10.10"
  }
 },
 "nbformat": 4,
 "nbformat_minor": 5
}
