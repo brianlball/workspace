{
 "cells": [
  {
   "cell_type": "code",
   "execution_count": 1,
   "id": "c9d5c46d-2336-4888-ad8f-826c655ceaa8",
   "metadata": {},
   "outputs": [],
   "source": [
    "import pandas as pd\n",
    "\n",
    "def aggregate_monthly_data(data):\n",
    "    # Load the CSV file\n",
    "    #file_path = f'{spreadsheet_name}'\n",
    "    #data = pd.read_csv(file_path)\n",
    "\n",
    "    # Convert the 'timestamp' column to datetime\n",
    "    data['timestamp'] = pd.to_datetime(data['timestamp'])\n",
    "\n",
    "    # Set the timestamp as the index\n",
    "    data.set_index('timestamp', inplace=True)\n",
    "\n",
    "    # Aggregate the energy consumption data monthly\n",
    "    monthly_energy_aggregates = data.filter(like='out.').resample('M').sum()\n",
    "\n",
    "    # Aggregate non-changing columns by taking the first available value for each month\n",
    "    non_changing_columns = data[['upgrade', 'in.state', 'in.comstock_building_type', 'models_used', 'floor_area_represented']].resample('M').first()\n",
    "\n",
    "    # Combine the aggregated data\n",
    "    monthly_aggregated_data = pd.concat([non_changing_columns, monthly_energy_aggregates], axis=1)\n",
    "\n",
    "    # Reset index to make the timestamp a column again\n",
    "    monthly_aggregated_data.reset_index(inplace=True)\n",
    "\n",
    "    return monthly_aggregated_data\n",
    "\n"
   ]
  },
  {
   "cell_type": "code",
   "execution_count": 2,
   "id": "9fd85c79-a1d0-4161-a598-fef2b6d7dda2",
   "metadata": {},
   "outputs": [],
   "source": [
    "# Example usage\n",
    "#baseline_data = 'up00-1a-smalloffice.csv'\n",
    "#baseline_monthly_df = aggregate_monthly_data(baseline_data)\n",
    "\n",
    "#LED_data = 'up05-1a-smalloffice.csv'\n",
    "#LED_monthly_df = aggregate_monthly_data(LED_data)\n",
    "#baseline_monthly_df['out.electricity.total.energy_consumption.kwh']\n",
    "#LED_monthly_df['out.electricity.total.energy_consumption.kwh']"
   ]
  },
  {
   "cell_type": "code",
   "execution_count": 3,
   "id": "7419f54b-b2e9-455e-b47f-6758202a6c9f",
   "metadata": {},
   "outputs": [],
   "source": [
    "#baseline_monthly_df['out.electricity.total.energy_consumption.kwh'] - LED_monthly_df['out.electricity.total.energy_consumption.kwh']\n",
    "#LED_monthly_df['out.electricity.total.energy_consumption.kwh.savings']"
   ]
  },
  {
   "cell_type": "code",
   "execution_count": null,
   "id": "45aadb9c-6382-4ddb-bb1c-211ac674941f",
   "metadata": {},
   "outputs": [],
   "source": []
  },
  {
   "cell_type": "code",
   "execution_count": 4,
   "id": "d313d44b-5db9-4f93-bbf4-dd6bd9dde23c",
   "metadata": {},
   "outputs": [],
   "source": [
    "state_abv = {\n",
    "    '2': 'AK',\n",
    "    '1': 'AL',\n",
    "    '5': 'AR',\n",
    "    '4': 'AZ',\n",
    "    '6': 'CA',\n",
    "    '8': 'CO',\n",
    "    '9': 'CT',\n",
    "    '11': 'DC',\n",
    "    '10': 'DE',\n",
    "    '12': 'FL',\n",
    "    '13': 'GA',\n",
    "    '15': 'HI',\n",
    "    '19': 'IA',\n",
    "    '16': 'ID',\n",
    "    '17': 'IL',\n",
    "    '18': 'IN',\n",
    "    '20': 'KS',\n",
    "    '21': 'KY',\n",
    "    '22': 'LA',\n",
    "    '25': 'MA',\n",
    "    '24': 'MD',\n",
    "    '23': 'ME',\n",
    "    '26': 'MI',\n",
    "    '27': 'MN',\n",
    "    '29': 'MO',\n",
    "    '28': 'MS',\n",
    "    '30': 'MT',\n",
    "    '37': 'NC',\n",
    "    '38': 'ND',\n",
    "    '31': 'NE',\n",
    "    '33': 'NH',\n",
    "    '34': 'NJ',\n",
    "    '35': 'NM',\n",
    "    '32': 'NV',\n",
    "    '36': 'NY',\n",
    "    '39': 'OH',\n",
    "    '40': 'OK',\n",
    "    '41': 'OR',\n",
    "    '42': 'PA',\n",
    "    '44': 'RI',\n",
    "    '45': 'SC',\n",
    "    '46': 'SD',\n",
    "    '47': 'TN',\n",
    "    '48': 'TX',\n",
    "    '49': 'UT',\n",
    "    '51': 'VA',\n",
    "    '50': 'VT',\n",
    "    '53': 'WA',\n",
    "    '55': 'WI',\n",
    "    '54': 'WV',\n",
    "    '56': 'WY'}"
   ]
  },
  {
   "cell_type": "code",
   "execution_count": 5,
   "id": "261101fb-6958-4f6f-b1f1-39659190173e",
   "metadata": {},
   "outputs": [],
   "source": [
    "test_state_abv = {\n",
    "    '2': 'AK',\n",
    "    '1': 'AL',\n",
    "    '5': 'AR',\n",
    "    '4': 'AZ'}"
   ]
  },
  {
   "cell_type": "code",
   "execution_count": 6,
   "id": "d457ccde-0249-4db9-8016-4ea38093ca57",
   "metadata": {},
   "outputs": [],
   "source": [
    "comstock_buildings = ['quickservicerestaurant',\n",
    "                      'fullservicerestaurant',\n",
    "                      'smalloffice',\n",
    "                      'mediumoffice',\n",
    "                      'largeoffice',\n",
    "                      'warehouse',\n",
    "                      'smallhotel',\n",
    "                      'largehotel',\n",
    "                      'outpatient',\n",
    "                      'hospital',\n",
    "                      'secondaryschool',\n",
    "                      'primaryschool',\n",
    "                      'retailstandalone',\n",
    "                      'retailstripmall']"
   ]
  },
  {
   "cell_type": "code",
   "execution_count": 7,
   "id": "b635fb74-8c87-4d24-9cfe-381630af1ce7",
   "metadata": {},
   "outputs": [],
   "source": [
    "test_comstock_buildings = ['smalloffice',\n",
    "                           'mediumoffice']"
   ]
  },
  {
   "cell_type": "code",
   "execution_count": 8,
   "id": "535131ba-55ea-4566-8faf-290f3319ab5f",
   "metadata": {},
   "outputs": [],
   "source": [
    "upgrades = ['17','18']"
   ]
  },
  {
   "cell_type": "code",
   "execution_count": 9,
   "id": "cbff3646-b997-44bf-8c6b-9adc9b62dbf6",
   "metadata": {},
   "outputs": [],
   "source": [
    "import requests\n",
    "from io import StringIO"
   ]
  },
  {
   "cell_type": "code",
   "execution_count": 10,
   "id": "dda99c3c-3ace-431e-ac01-8a0da7f414c6",
   "metadata": {},
   "outputs": [],
   "source": [
    "base_url = \"https://oedi-data-lake.s3.amazonaws.com/nrel-pds-building-stock/end-use-load-profiles-for-us-building-stock/2023/comstock_amy2018_release_2/timeseries_aggregates/by_state/upgrade={UP}/state={STATE}/up{up}-{state}-{BUILDING}.csv\"\n",
    "#https://oedi-data-lake.s3.amazonaws.com/nrel-pds-building-stock/end-use-load-profiles-for-us-building-stock/2023/comstock_amy2018_release_2/timeseries_aggregates/by_state/upgrade=17/state=CO/up17-co-retailstandalone.csv"
   ]
  },
  {
   "cell_type": "code",
   "execution_count": null,
   "id": "8649bc63-edb0-4eb4-a0f7-d7703c1279c9",
   "metadata": {},
   "outputs": [],
   "source": []
  },
  {
   "cell_type": "code",
   "execution_count": 11,
   "id": "6d09eebe-0d7c-4923-a398-6233aa526099",
   "metadata": {},
   "outputs": [],
   "source": [
    "# Initialize a blank DataFrame with specific columns\n",
    "data_df = pd.DataFrame(columns=['upgrade', 'state', 'comstock_building_type', 'floor_area_represented', 'sum.electricity.total.energy_consumption.kwh.savings', 'sum.electricity.total.energy_consumption.kwh', 'sum.natural_gas.total.energy_consumption.kwh.savings', 'sum.natural_gas.total.energy_consumption.kwh'])\n"
   ]
  },
  {
   "cell_type": "code",
   "execution_count": 12,
   "id": "78f5a8ef-c373-4e15-90fb-1d87681eadf8",
   "metadata": {},
   "outputs": [
    {
     "name": "stdout",
     "output_type": "stream",
     "text": [
      "DOWNLOADING upgrade: 17, state: AK, building_type: smalloffice\n",
      "RESULTS upgrade: 17, state: AK, building_type: SmallOffice, floor_area_represented: 8405165.35, electricity_savings: 2995784.22, electricity_upgrade: 128200487.93, gas_savings: 55889353.16, gas_upgrade: 6976157.89\n",
      "DOWNLOADING upgrade: 17, state: AK, building_type: mediumoffice\n",
      "RESULTS upgrade: 17, state: AK, building_type: MediumOffice, floor_area_represented: 8185901.88, electricity_savings: -10926759.64, electricity_upgrade: 102167847.52, gas_savings: 53298312.54, gas_upgrade: 2638155.88\n",
      "DOWNLOADING upgrade: 17, state: AL, building_type: smalloffice\n",
      "RESULTS upgrade: 17, state: AL, building_type: SmallOffice, floor_area_represented: 66424644.42, electricity_savings: 214479048.45, electricity_upgrade: 803068340.57, gas_savings: 48646628.22, gas_upgrade: 30458860.47\n",
      "DOWNLOADING upgrade: 17, state: AL, building_type: mediumoffice\n",
      "RESULTS upgrade: 17, state: AL, building_type: MediumOffice, floor_area_represented: 41618605.09, electricity_savings: 53436412.58, electricity_upgrade: 529680220.97, gas_savings: 21024363.93, gas_upgrade: 3241045.89\n",
      "DOWNLOADING upgrade: 17, state: AR, building_type: smalloffice\n",
      "RESULTS upgrade: 17, state: AR, building_type: SmallOffice, floor_area_represented: 45120375.53, electricity_savings: 124601035.36, electricity_upgrade: 552682253.25, gas_savings: 82072921.55, gas_upgrade: 38968249.90\n",
      "DOWNLOADING upgrade: 17, state: AR, building_type: mediumoffice\n",
      "RESULTS upgrade: 17, state: AR, building_type: MediumOffice, floor_area_represented: 22245303.98, electricity_savings: 27052354.24, electricity_upgrade: 342805840.61, gas_savings: 48993714.96, gas_upgrade: 4203427.05\n",
      "DOWNLOADING upgrade: 17, state: AZ, building_type: smalloffice\n",
      "RESULTS upgrade: 17, state: AZ, building_type: SmallOffice, floor_area_represented: 78070036.32, electricity_savings: 255356579.97, electricity_upgrade: 1105711264.12, gas_savings: 17205704.66, gas_upgrade: 19009502.85\n",
      "DOWNLOADING upgrade: 17, state: AZ, building_type: mediumoffice\n",
      "RESULTS upgrade: 17, state: AZ, building_type: MediumOffice, floor_area_represented: 81156048.69, electricity_savings: 143118423.06, electricity_upgrade: 1200682570.13, gas_savings: 21001337.15, gas_upgrade: 8317878.93\n",
      "DOWNLOADING upgrade: 18, state: AK, building_type: smalloffice\n",
      "RESULTS upgrade: 18, state: AK, building_type: SmallOffice, floor_area_represented: 8405165.35, electricity_savings: 16841018.65, electricity_upgrade: 114355253.50, gas_savings: 57935077.31, gas_upgrade: 4930433.74\n",
      "DOWNLOADING upgrade: 18, state: AK, building_type: mediumoffice\n",
      "RESULTS upgrade: 18, state: AK, building_type: MediumOffice, floor_area_represented: 8185901.88, electricity_savings: -2203688.30, electricity_upgrade: 93444776.17, gas_savings: 53298318.21, gas_upgrade: 2638150.22\n",
      "DOWNLOADING upgrade: 18, state: AL, building_type: smalloffice\n",
      "RESULTS upgrade: 18, state: AL, building_type: SmallOffice, floor_area_represented: 66424644.42, electricity_savings: 293266854.60, electricity_upgrade: 724280534.43, gas_savings: 57197146.00, gas_upgrade: 21908342.69\n",
      "DOWNLOADING upgrade: 18, state: AL, building_type: mediumoffice\n",
      "RESULTS upgrade: 18, state: AL, building_type: MediumOffice, floor_area_represented: 41618605.09, electricity_savings: 84743565.25, electricity_upgrade: 498373068.30, gas_savings: 21024405.46, gas_upgrade: 3241004.35\n",
      "DOWNLOADING upgrade: 18, state: AR, building_type: smalloffice\n",
      "RESULTS upgrade: 18, state: AR, building_type: SmallOffice, floor_area_represented: 45120375.53, electricity_savings: 176559247.36, electricity_upgrade: 500724041.25, gas_savings: 93793598.87, gas_upgrade: 27247572.58\n",
      "DOWNLOADING upgrade: 18, state: AR, building_type: mediumoffice\n",
      "RESULTS upgrade: 18, state: AR, building_type: MediumOffice, floor_area_represented: 22245303.98, electricity_savings: 48333081.86, electricity_upgrade: 321525112.99, gas_savings: 49550618.44, gas_upgrade: 3646523.56\n",
      "DOWNLOADING upgrade: 18, state: AZ, building_type: smalloffice\n",
      "RESULTS upgrade: 18, state: AZ, building_type: SmallOffice, floor_area_represented: 78070036.32, electricity_savings: 390870981.84, electricity_upgrade: 970196862.24, gas_savings: 18868464.27, gas_upgrade: 17346743.25\n",
      "DOWNLOADING upgrade: 18, state: AZ, building_type: mediumoffice\n",
      "RESULTS upgrade: 18, state: AZ, building_type: MediumOffice, floor_area_represented: 81156048.69, electricity_savings: 241182700.39, electricity_upgrade: 1102618292.79, gas_savings: 21168383.92, gas_upgrade: 8150832.15\n",
      "saving data.csv\n"
     ]
    }
   ],
   "source": [
    "# loop over upgrades\n",
    "for upgrade in upgrades:\n",
    "    UP = str(upgrade)\n",
    "    up = f\"{upgrade:02}\"  # Ensures leading zero for single-digit numbers\n",
    "\n",
    "    # Loop through each state abbreviation\n",
    "    for state in test_state_abv.values():\n",
    "        \n",
    "        #loop over buildings\n",
    "        for building in test_comstock_buildings:\n",
    "            \n",
    "            # Construct the URL for the current state\n",
    "            url = base_url.format(UP=UP, up=up, STATE=state.upper(), state=state.lower(), BUILDING=building)\n",
    "\n",
    "            try:\n",
    "                # Make a GET request to fetch the CSV content\n",
    "                response = requests.get(url)\n",
    "                if response.status_code == 200:\n",
    "                    print(f\"DOWNLOADING upgrade: {up}, state: {state}, building_type: {building}\")\n",
    "                    # Convert the CSV content to a DataFrame\n",
    "                    csv_content = StringIO(response.content.decode('utf-8'))\n",
    "                    df = pd.read_csv(csv_content)\n",
    "\n",
    "                    monthly_df = aggregate_monthly_data(df)\n",
    "                    electricity_savings = monthly_df['out.electricity.total.energy_consumption.kwh.savings'].sum()\n",
    "                    electricity_upgrade = monthly_df['out.electricity.total.energy_consumption.kwh'].sum()\n",
    "                    gas_savings = monthly_df['out.natural_gas.total.energy_consumption.kwh.savings'].sum()\n",
    "                    gas_upgrade = monthly_df['out.natural_gas.total.energy_consumption.kwh'].sum()\n",
    "                    floor_area_represented = monthly_df['floor_area_represented'].unique()[0]\n",
    "                    building_type = monthly_df['in.comstock_building_type'].unique()[0]\n",
    "                    print(f\"RESULTS upgrade: {up}, state: {state}, building_type: {building_type}, floor_area_represented: {floor_area_represented:.2f}, electricity_savings: {electricity_savings:.2f}, electricity_upgrade: {electricity_upgrade:.2f}, gas_savings: {gas_savings:.2f}, gas_upgrade: {gas_upgrade:.2f}\")\n",
    "                 \n",
    "                    new_data = {\n",
    "                        'upgrade': [up],\n",
    "                        'state': [state.upper()],\n",
    "                        'comstock_building_type': [building_type],\n",
    "                        'floor_area_represented': [floor_area_represented],\n",
    "                        'sum.electricity.total.energy_consumption.kwh.savings': [electricity_savings],\n",
    "                        'sum.electricity.total.energy_consumption.kwh': [electricity_upgrade],\n",
    "                        'sum.natural_gas.total.energy_consumption.kwh.savings': [gas_savings],\n",
    "                        'sum.natural_gas.total.energy_consumption.kwh': [gas_upgrade]\n",
    "                    }\n",
    "\n",
    "                    # add new entry to DF\n",
    "                    new_row_df = pd.DataFrame(new_data)\n",
    "                    data_df = pd.concat([data_df, new_row_df], ignore_index=True)\n",
    "                    \n",
    "                else:\n",
    "                    print(f\"Failed to download data for {state.upper()}: HTTP {response.status_code}\")\n",
    "            except Exception as e:\n",
    "                print(f\"Error downloading data for {state.upper()}: {e}\")\n",
    "                \n",
    "print('saving data.csv')                \n",
    "data_df.to_csv('data.csv', index=False)"
   ]
  },
  {
   "cell_type": "code",
   "execution_count": null,
   "id": "d5075d76-fc49-4948-955c-d0233b81c7f1",
   "metadata": {},
   "outputs": [],
   "source": []
  },
  {
   "cell_type": "code",
   "execution_count": null,
   "id": "78ec69f8-d3db-4835-9a8c-3ce1c6e59cf4",
   "metadata": {},
   "outputs": [],
   "source": []
  }
 ],
 "metadata": {
  "kernelspec": {
   "display_name": "Python 3 (ipykernel)",
   "language": "python",
   "name": "python3"
  },
  "language_info": {
   "codemirror_mode": {
    "name": "ipython",
    "version": 3
   },
   "file_extension": ".py",
   "mimetype": "text/x-python",
   "name": "python",
   "nbconvert_exporter": "python",
   "pygments_lexer": "ipython3",
   "version": "3.10.10"
  }
 },
 "nbformat": 4,
 "nbformat_minor": 5
}
