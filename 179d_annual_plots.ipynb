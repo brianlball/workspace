{
 "cells": [
  {
   "cell_type": "code",
   "execution_count": 1,
   "id": "579e15bb-9e9c-493a-af6d-deee8dbac7de",
   "metadata": {},
   "outputs": [],
   "source": [
    "import geopandas as gpd\n",
    "import pandas as pd\n",
    "import matplotlib.pyplot as plt\n",
    "import os"
   ]
  },
  {
   "cell_type": "code",
   "execution_count": 2,
   "id": "01bfcb64-2c62-47d6-88ad-d01c3cb94042",
   "metadata": {},
   "outputs": [],
   "source": [
    "comstock_buildings = ['quickservicerestaurant',\n",
    "                      'fullservicerestaurant',\n",
    "                      'smalloffice',\n",
    "                      'mediumoffice',\n",
    "                      'largeoffice',\n",
    "                      'warehouse',\n",
    "                      'smallhotel',\n",
    "                      'largehotel',\n",
    "                      'outpatient',\n",
    "                      'hospital',\n",
    "                      'secondaryschool',\n",
    "                      'primaryschool',\n",
    "                      'retailstandalone',\n",
    "                      'retailstripmall']\n",
    "\n",
    "test_comstock_buildings = ['smalloffice']"
   ]
  },
  {
   "cell_type": "code",
   "execution_count": 3,
   "id": "e8b2850c-def1-4f78-aa4d-a756ea66ff02",
   "metadata": {},
   "outputs": [],
   "source": [
    "upgrades = ['5','6','7','8','9','10','15','17','18']\n",
    "test_upgrades = ['17']"
   ]
  },
  {
   "cell_type": "code",
   "execution_count": 4,
   "id": "686ea69c-4fa9-4f9d-8f72-3530c222a97f",
   "metadata": {},
   "outputs": [],
   "source": [
    "# loop over upgrades\n",
    "for upgrade in upgrades:\n",
    "    UP = str(upgrade)\n",
    "    up = f\"{int(upgrade):02}\"  # Convert string to int and format with leading zero\n",
    "        \n",
    "    ##loop over buildings\n",
    "    #for building in test_comstock_buildings:\n",
    "\n",
    "    directory = f'annual/data/{up}'\n",
    "    file_path = f'{directory}/{up}_data.csv'\n",
    "    df = pd.read_csv(file_path)\n",
    "\n",
    "    # Load the U.S. States Shapefile\n",
    "    gdf_states = gpd.read_file('cb_2018_us_state_500k/cb_2018_us_state_500k.shp')\n",
    "\n",
    "    # create savings_df for each building\n",
    "    # Group by 'in.comstock_building_type'\n",
    "    grouped = df.groupby('comstock_building_type')\n",
    "\n",
    "    # Iterate over each building group, filter columns that match the defined columns, and save as separate files\n",
    "    for building_type, group in grouped:\n",
    "        # Merge GeoDataFrame with building type grouped df based on state abbreviations\n",
    "        gdf_merged = gdf_states.merge(group, left_on='STUSPS', right_on='state')\n",
    "\n",
    "        # Filter out non-continental states (Alaska, Hawaii, and territories)\n",
    "        gdf_continental = gdf_merged[~gdf_merged['STUSPS'].isin(['AK', 'HI', 'PR', 'GU', 'VI', 'MP', 'AS'])]\n",
    "\n",
    "        # Plotting percentage_above_25\n",
    "        fig, ax = plt.subplots(1, 1, figsize=(15, 10))\n",
    "        gdf_continental.plot(column='percentage_above_25', ax=ax, legend=True, cmap='coolwarm',\n",
    "                             legend_kwds={'label': 'Percentage of Buildings w savings > 25%',\n",
    "                                          'orientation': \"horizontal\"})\n",
    "        ax.set_title(f\"{up} {building_type} Percentage of Buildings w savings > 25% by State - Continental US\")\n",
    "        ax.set_axis_off()  # Remove axis and tick labels\n",
    "        #plt.show()\n",
    "        directory = f'annual/plots/states/{up}'\n",
    "        os.makedirs(directory, exist_ok=True)  # Ensure the directory exists\n",
    "        plt.savefig(f\"{directory}/{up}_{building_type}_savings_25.png\", bbox_inches='tight', dpi=300)\n",
    "        plt.close(fig)\n",
    "\n",
    "        # Plotting perc_gas_savings\n",
    "        fig, ax = plt.subplots(1, 1, figsize=(15, 10))\n",
    "        gdf_continental.plot(column='percentage_above_50', ax=ax, legend=True, cmap='coolwarm',\n",
    "                             legend_kwds={'label': 'Percentage of Buildings w savings > 50%',\n",
    "                                          'orientation': \"horizontal\"})\n",
    "        ax.set_title(f\"{up} {building_type} Percentage of Buildings w savings > 50% by State - Continental US\")\n",
    "        ax.set_axis_off()  # Remove axis and tick labels\n",
    "        #plt.show()\n",
    "        plt.savefig(f\"{directory}/{up}_{building_type}_savings_50.png\", bbox_inches='tight', dpi=300)\n",
    "        plt.close(fig)\n"
   ]
  },
  {
   "cell_type": "code",
   "execution_count": null,
   "id": "71c5bc46-2677-47cd-9c79-a32a4c0cf564",
   "metadata": {},
   "outputs": [],
   "source": []
  },
  {
   "cell_type": "code",
   "execution_count": null,
   "id": "43a379a3-0c41-46b0-acca-f3132f742c8e",
   "metadata": {},
   "outputs": [],
   "source": []
  },
  {
   "cell_type": "code",
   "execution_count": null,
   "id": "d32790f6-45ff-469c-8f7b-6a0e4201f718",
   "metadata": {},
   "outputs": [],
   "source": []
  },
  {
   "cell_type": "code",
   "execution_count": null,
   "id": "e8c7753f-d71a-4d86-a74a-63bae03b206c",
   "metadata": {},
   "outputs": [],
   "source": []
  }
 ],
 "metadata": {
  "kernelspec": {
   "display_name": "Python 3 (ipykernel)",
   "language": "python",
   "name": "python3"
  },
  "language_info": {
   "codemirror_mode": {
    "name": "ipython",
    "version": 3
   },
   "file_extension": ".py",
   "mimetype": "text/x-python",
   "name": "python",
   "nbconvert_exporter": "python",
   "pygments_lexer": "ipython3",
   "version": "3.10.10"
  }
 },
 "nbformat": 4,
 "nbformat_minor": 5
}
