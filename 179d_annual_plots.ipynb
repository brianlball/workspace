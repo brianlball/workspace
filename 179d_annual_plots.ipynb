{
 "cells": [
  {
   "cell_type": "code",
   "execution_count": 1,
   "id": "579e15bb-9e9c-493a-af6d-deee8dbac7de",
   "metadata": {},
   "outputs": [],
   "source": [
    "import geopandas as gpd\n",
    "import pandas as pd\n",
    "import matplotlib.pyplot as plt\n"
   ]
  },
  {
   "cell_type": "code",
   "execution_count": 2,
   "id": "01bfcb64-2c62-47d6-88ad-d01c3cb94042",
   "metadata": {},
   "outputs": [],
   "source": [
    "comstock_buildings = ['quickservicerestaurant',\n",
    "                      'fullservicerestaurant',\n",
    "                      'smalloffice',\n",
    "                      'mediumoffice',\n",
    "                      'largeoffice',\n",
    "                      'warehouse',\n",
    "                      'smallhotel',\n",
    "                      'largehotel',\n",
    "                      'outpatient',\n",
    "                      'hospital',\n",
    "                      'secondaryschool',\n",
    "                      'primaryschool',\n",
    "                      'retailstandalone',\n",
    "                      'retailstripmall']\n",
    "\n",
    "test_comstock_buildings = ['smalloffice']"
   ]
  },
  {
   "cell_type": "code",
   "execution_count": 3,
   "id": "e8b2850c-def1-4f78-aa4d-a756ea66ff02",
   "metadata": {},
   "outputs": [],
   "source": [
    "upgrades = ['17','18']\n",
    "test_upgrades = ['17']"
   ]
  },
  {
   "cell_type": "code",
   "execution_count": 4,
   "id": "686ea69c-4fa9-4f9d-8f72-3530c222a97f",
   "metadata": {},
   "outputs": [],
   "source": [
    "# loop over upgrades\n",
    "for upgrade in upgrades:\n",
    "    UP = str(upgrade)\n",
    "    up = f\"{upgrade:02}\"  # Ensures leading zero for single-digit numbers\n",
    "        \n",
    "    #loop over buildings\n",
    "    for building in comstock_buildings:\n",
    "\n",
    "        # Load the U.S. States Shapefile\n",
    "        gdf_states = gpd.read_file('cb_2018_us_state_500k/cb_2018_us_state_500k.shp')\n",
    "\n",
    "        # Load the savings DataFrame\n",
    "        print(f\"loading data/{up}_{building}_savings.csv\")\n",
    "        savings_df = pd.read_csv(f\"data/{up}_{building}_savings.csv\")\n",
    "\n",
    "        # Merge GeoDataFrame with savings_df based on state abbreviations\n",
    "        gdf_merged = gdf_states.merge(savings_df, left_on='STUSPS', right_on='state')\n",
    "\n",
    "        # Filter out non-continental states (Alaska, Hawaii, and territories)\n",
    "        gdf_continental = gdf_merged[~gdf_merged['STUSPS'].isin(['AK', 'HI', 'PR', 'GU', 'VI', 'MP', 'AS'])]\n",
    "\n",
    "        # Plotting perc_elec_savings\n",
    "        fig, ax = plt.subplots(1, 1, figsize=(15, 10))\n",
    "        gdf_continental.plot(column='perc_elec_savings', ax=ax, legend=True, cmap='coolwarm',\n",
    "                             legend_kwds={'label': 'Total Electric Savings (%)',\n",
    "                                          'orientation': \"horizontal\"})\n",
    "        ax.set_title(f\"{up} {building} Total Electric Savings (%) by State - Continental US\")\n",
    "        ax.set_axis_off()  # Remove axis and tick labels\n",
    "        #plt.show()\n",
    "        plt.savefig(f\"plots/{up}_{building}_total_electric_savings.png\", bbox_inches='tight', dpi=300)\n",
    "        plt.close(fig)\n",
    "\n",
    "        # Plotting perc_gas_savings\n",
    "        fig, ax = plt.subplots(1, 1, figsize=(15, 10))\n",
    "        gdf_continental.plot(column='perc_gas_savings', ax=ax, legend=True, cmap='coolwarm',\n",
    "                             legend_kwds={'label': 'Total Gas Savings (%)',\n",
    "                                          'orientation': \"horizontal\"})\n",
    "        ax.set_title(f\"{up} {building} Total Gas Savings (%) by State - Continental US\")\n",
    "        ax.set_axis_off()  # Remove axis and tick labels\n",
    "        #plt.show()\n",
    "        plt.savefig(f\"plots/{up}_{building}_total_gas_savings.png\", bbox_inches='tight', dpi=300)\n",
    "        plt.close(fig)\n",
    "\n",
    "        # Plotting perc_total_savings\n",
    "        fig, ax = plt.subplots(1, 1, figsize=(15, 10))\n",
    "        gdf_continental.plot(column='perc_total_savings', ax=ax, legend=True, cmap='coolwarm',\n",
    "                             legend_kwds={'label': 'Total Energy Savings (%)',\n",
    "                                          'orientation': \"horizontal\"})\n",
    "        ax.set_title(f\"{up} {building} Total Energy Savings (%) by State - Continental US\")\n",
    "        ax.set_axis_off()  # Remove axis and tick labels\n",
    "        #plt.show()\n",
    "        plt.savefig(f\"plots/{up}_{building}_total_energy_savings.png\", bbox_inches='tight', dpi=300)\n",
    "        plt.close(fig)\n",
    "\n"
   ]
  },
  {
   "cell_type": "code",
   "execution_count": null,
   "id": "e8c7753f-d71a-4d86-a74a-63bae03b206c",
   "metadata": {},
   "outputs": [],
   "source": []
  }
 ],
 "metadata": {
  "kernelspec": {
   "display_name": "Python 3 (ipykernel)",
   "language": "python",
   "name": "python3"
  },
  "language_info": {
   "codemirror_mode": {
    "name": "ipython",
    "version": 3
   },
   "file_extension": ".py",
   "mimetype": "text/x-python",
   "name": "python",
   "nbconvert_exporter": "python",
   "pygments_lexer": "ipython3",
   "version": "3.10.10"
  }
 },
 "nbformat": 4,
 "nbformat_minor": 5
}
