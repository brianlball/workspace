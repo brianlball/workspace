{
 "cells": [
  {
   "cell_type": "code",
   "execution_count": 1,
   "id": "686ea69c-4fa9-4f9d-8f72-3530c222a97f",
   "metadata": {},
   "outputs": [],
   "source": [
    "import geopandas as gpd\n",
    "import pandas as pd\n",
    "import matplotlib.pyplot as plt\n",
    "\n",
    "# Load the U.S. States Shapefile\n",
    "gdf_states = gpd.read_file('cb_2018_us_state_500k/cb_2018_us_state_500k.shp')\n",
    "\n",
    "# Load the savings DataFrame\n",
    "savings_df = pd.read_csv('17_SmallOffice_savings.csv')\n",
    "\n",
    "# Merge GeoDataFrame with savings_df based on state abbreviations\n",
    "gdf_merged = gdf_states.merge(savings_df, left_on='STUSPS', right_on='state')\n",
    "\n",
    "# Filter out non-continental states (Alaska, Hawaii, and territories)\n",
    "gdf_continental = gdf_merged[~gdf_merged['STUSPS'].isin(['AK', 'HI', 'PR', 'GU', 'VI', 'MP', 'AS'])]\n",
    "\n",
    "# Plotting perc_elec_savings\n",
    "fig, ax = plt.subplots(1, 1, figsize=(15, 10))\n",
    "gdf_continental.plot(column='perc_elec_savings', ax=ax, legend=True, cmap='coolwarm',\n",
    "                     legend_kwds={'label': 'Total Electric Savings (%)',\n",
    "                                  'orientation': \"horizontal\"})\n",
    "ax.set_title('Total Electric Savings (%) by State - Continental US')\n",
    "ax.set_axis_off()  # Remove axis and tick labels\n",
    "#plt.show()\n",
    "plt.savefig('17_smalloffice_total_electric_savings.png', bbox_inches='tight', dpi=300)\n",
    "plt.close(fig)\n",
    "\n",
    "# Plotting perc_gas_savings\n",
    "fig, ax = plt.subplots(1, 1, figsize=(15, 10))\n",
    "gdf_continental.plot(column='perc_gas_savings', ax=ax, legend=True, cmap='coolwarm',\n",
    "                     legend_kwds={'label': 'Total Gas Savings (%)',\n",
    "                                  'orientation': \"horizontal\"})\n",
    "ax.set_title('Total Gas Savings (%) by State - Continental US')\n",
    "ax.set_axis_off()  # Remove axis and tick labels\n",
    "#plt.show()\n",
    "plt.savefig('17_smalloffice_total_gas_savings.png', bbox_inches='tight', dpi=300)\n",
    "plt.close(fig)\n",
    "\n",
    "# Plotting perc_total_savings\n",
    "fig, ax = plt.subplots(1, 1, figsize=(15, 10))\n",
    "gdf_continental.plot(column='perc_total_savings', ax=ax, legend=True, cmap='coolwarm',\n",
    "                     legend_kwds={'label': 'Total Energy Savings (%)',\n",
    "                                  'orientation': \"horizontal\"})\n",
    "ax.set_title('Total Energy Savings (%) by State - Continental US')\n",
    "ax.set_axis_off()  # Remove axis and tick labels\n",
    "#plt.show()\n",
    "plt.savefig('17_smalloffice_total_energy_savings.png', bbox_inches='tight', dpi=300)\n",
    "plt.close(fig)\n",
    "\n"
   ]
  },
  {
   "cell_type": "code",
   "execution_count": null,
   "id": "e8c7753f-d71a-4d86-a74a-63bae03b206c",
   "metadata": {},
   "outputs": [],
   "source": []
  }
 ],
 "metadata": {
  "kernelspec": {
   "display_name": "Python 3 (ipykernel)",
   "language": "python",
   "name": "python3"
  },
  "language_info": {
   "codemirror_mode": {
    "name": "ipython",
    "version": 3
   },
   "file_extension": ".py",
   "mimetype": "text/x-python",
   "name": "python",
   "nbconvert_exporter": "python",
   "pygments_lexer": "ipython3",
   "version": "3.10.10"
  }
 },
 "nbformat": 4,
 "nbformat_minor": 5
}
